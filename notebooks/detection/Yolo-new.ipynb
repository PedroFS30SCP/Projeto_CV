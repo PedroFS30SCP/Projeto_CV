{
 "cells": [
  {
   "cell_type": "code",
   "execution_count": 23,
   "id": "e2825c36",
   "metadata": {},
   "outputs": [],
   "source": [
    "import os\n",
    "import random\n",
    "import torch\n",
    "from ultralytics import YOLO\n",
    "from PIL import Image\n",
    "import torchvision.transforms as T\n",
    "import torchvision.transforms.functional as F\n",
    "from io import BytesIO\n",
    "\n",
    "# Caminhos\n",
    "SOURCE_DIR = \"/Users/pedrofs/Library/CloudStorage/OneDrive-ISCTE-IUL/Mestrado/2ªSem/APVC/Projeto/dataset/yolo-kit-dataset\"\n",
    "OUTPUT_DIR = \"/Users/pedrofs/Library/CloudStorage/OneDrive-ISCTE-IUL/Mestrado/2ªSem/APVC/Projeto/dataset/cnn-kit-dataset-final\"\n",
    "YOLO_MODEL_PATH = \"runs_yolo/logo_detector/weights/best.pt\""
   ]
  },
  {
   "cell_type": "code",
   "execution_count": 24,
   "id": "2de4f3be",
   "metadata": {},
   "outputs": [],
   "source": [
    "# YOLO carregado\n",
    "model = YOLO(YOLO_MODEL_PATH)\n",
    "\n",
    "# Configurações\n",
    "conf_threshold = 0.4\n",
    "max_attempts = 50\n",
    "device = \"mps\" if torch.backends.mps.is_available() else \"cpu\"\n",
    "\n",
    "# Transforms de data augmentation\n",
    "augmentations = T.Compose([\n",
    "    T.RandomHorizontalFlip(),\n",
    "    T.RandomRotation(degrees=15),\n",
    "    T.ColorJitter(brightness=0.2, contrast=0.2, saturation=0.2),\n",
    "    T.RandomResizedCrop(size=(640, 640), scale=(0.8, 1.0))\n",
    "])"
   ]
  },
  {
   "cell_type": "code",
   "execution_count": 25,
   "id": "649abaed",
   "metadata": {},
   "outputs": [],
   "source": [
    "import tempfile\n",
    "\n",
    "def extract_logo_from_augmented(image, save_base_path, liga, clube):\n",
    "    for i in range(max_attempts):\n",
    "        augmented = augmentations(image)\n",
    "\n",
    "        # Guardar temporariamente imagem aumentada\n",
    "        with tempfile.NamedTemporaryFile(suffix=\".jpg\", delete=False) as tmpfile:\n",
    "            augmented.save(tmpfile.name)\n",
    "            tmp_path = tmpfile.name\n",
    "\n",
    "        # YOLO sobre imagem guardada\n",
    "        results = model.predict(tmp_path, conf=conf_threshold, verbose=False)\n",
    "        boxes = results[0].boxes.xyxy\n",
    "\n",
    "        if boxes is not None and len(boxes) > 0:\n",
    "            for j, box in enumerate(boxes):\n",
    "                x1, y1, x2, y2 = map(int, box[:4])\n",
    "                logo_crop = augmented.crop((x1, y1, x2, y2)).resize((224, 224))\n",
    "                save_dir = os.path.join(save_base_path, liga, clube)\n",
    "                os.makedirs(save_dir, exist_ok=True)\n",
    "                logo_crop.save(os.path.join(save_dir, f\"{clube}_{i}_{j}.jpg\"))\n",
    "                print(f\"Logo guardado: {liga}/{clube}\")\n",
    "            os.remove(tmp_path)  # limpar imagem temporária\n",
    "            return\n",
    "\n",
    "        os.remove(tmp_path)  # limpar imagem temporária se não usámos\n",
    "    print(f\" Falha: não encontrado logo para {liga}/{clube}\")"
   ]
  },
  {
   "cell_type": "code",
   "execution_count": null,
   "id": "0275ff98",
   "metadata": {},
   "outputs": [],
   "source": [
    "for liga in sorted(os.listdir(SOURCE_DIR)):\n",
    "    liga_path = os.path.join(SOURCE_DIR, liga)\n",
    "    if not os.path.isdir(liga_path) or liga.startswith(\".\"):\n",
    "        continue\n",
    "\n",
    "    for clube in sorted(os.listdir(liga_path)):\n",
    "        if clube.startswith(\".\"):\n",
    "            continue\n",
    "\n",
    "        output_clube_path = os.path.join(OUTPUT_DIR, liga, clube)\n",
    "        if os.path.exists(output_clube_path):\n",
    "            continue  # já processado\n",
    "\n",
    "        clube_path = os.path.join(liga_path, clube)\n",
    "        if not os.path.isdir(clube_path):\n",
    "            continue\n",
    "\n",
    "        for filename in os.listdir(clube_path):\n",
    "            if not filename.lower().endswith((\".jpg\", \".jpeg\", \".png\")):\n",
    "                continue\n",
    "\n",
    "            image_path = os.path.join(clube_path, filename)\n",
    "            try:\n",
    "                img = Image.open(image_path).convert(\"RGB\")\n",
    "                extract_logo_from_augmented(img, OUTPUT_DIR, liga, clube)\n",
    "            except Exception as e:\n",
    "                print(f\" Erro com {filename}: {e}\")"
   ]
  }
 ],
 "metadata": {
  "kernelspec": {
   "display_name": "Python (venv)",
   "language": "python",
   "name": "venv"
  },
  "language_info": {
   "codemirror_mode": {
    "name": "ipython",
    "version": 3
   },
   "file_extension": ".py",
   "mimetype": "text/x-python",
   "name": "python",
   "nbconvert_exporter": "python",
   "pygments_lexer": "ipython3",
   "version": "3.9.6"
  }
 },
 "nbformat": 4,
 "nbformat_minor": 5
}
