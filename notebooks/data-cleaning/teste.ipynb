{
 "cells": [
  {
   "cell_type": "code",
   "execution_count": 2,
   "id": "a4fbb28c",
   "metadata": {},
   "outputs": [
    {
     "name": "stdout",
     "output_type": "stream",
     "text": [
      "Redimensionamento concluído!\n"
     ]
    }
   ],
   "source": [
    "import os\n",
    "from PIL import Image\n",
    "\n",
    "# Caminho da pasta\n",
    "input_folder = \"/Users/pedrofs/Library/CloudStorage/OneDrive-ISCTE-IUL/Mestrado/2ªSem/APVC/Projeto/dataset/logo-dataset/liga-betclic\"\n",
    "\n",
    "# Percorre todos os arquivos da pasta\n",
    "for filename in os.listdir(input_folder):\n",
    "    if filename.lower().endswith(\".png\"):\n",
    "        filepath = os.path.join(input_folder, filename)\n",
    "        \n",
    "        # Abre e redimensiona a imagem\n",
    "        with Image.open(filepath) as img:\n",
    "            resized_img = img.resize((400, 400), Image.Resampling.LANCZOS)\n",
    "            \n",
    "            # Salva a imagem substituindo a original\n",
    "            resized_img.save(filepath)\n",
    "\n",
    "print(\"Redimensionamento concluído!\")\n"
   ]
  },
  {
   "cell_type": "code",
   "execution_count": 3,
   "id": "b5c3af70",
   "metadata": {},
   "outputs": [
    {
     "name": "stdout",
     "output_type": "stream",
     "text": [
      "Imagens organizadas em pastas por clube!\n"
     ]
    }
   ],
   "source": [
    "import os\n",
    "import shutil\n",
    "\n",
    "# Caminho da pasta 'liga-betclic'\n",
    "base_folder = \"/Users/pedrofs/Library/CloudStorage/OneDrive-ISCTE-IUL/Mestrado/2ªSem/APVC/Projeto/dataset/logo-dataset/liga-betclic\"\n",
    "\n",
    "# Percorre os arquivos na pasta\n",
    "for filename in os.listdir(base_folder):\n",
    "    if filename.lower().endswith(\".png\"):\n",
    "        # Nome do clube sem extensão\n",
    "        club_name = os.path.splitext(filename)[0]\n",
    "        \n",
    "        # Caminho completo do novo diretório do clube\n",
    "        club_folder = os.path.join(base_folder, club_name)\n",
    "        \n",
    "        # Cria a pasta se não existir\n",
    "        os.makedirs(club_folder, exist_ok=True)\n",
    "        \n",
    "        # Caminhos completo da imagem atual e destino\n",
    "        src_path = os.path.join(base_folder, filename)\n",
    "        dst_path = os.path.join(club_folder, filename)\n",
    "        \n",
    "        # Move a imagem para a nova pasta\n",
    "        shutil.move(src_path, dst_path)\n",
    "\n",
    "print(\"Imagens organizadas em pastas por clube!\")"
   ]
  },
  {
   "cell_type": "code",
   "execution_count": 4,
   "id": "aacd2fac",
   "metadata": {},
   "outputs": [
    {
     "name": "stdout",
     "output_type": "stream",
     "text": [
      "Processando liga: french-ligue1\n",
      "Processando liga: serie-a\n",
      "Processando liga: premier-league\n",
      "Processando liga: bundesliga\n",
      "Processando liga: la-liga\n",
      "Liga 'liga-betclic' já tem subpastas, ignorada.\n",
      "Organização concluída para todas as ligas não processadas.\n"
     ]
    }
   ],
   "source": [
    "import os\n",
    "import shutil\n",
    "\n",
    "# Caminho base onde estão todas as ligas\n",
    "root_folder = \"/Users/pedrofs/Library/CloudStorage/OneDrive-ISCTE-IUL/Mestrado/2ªSem/APVC/Projeto/dataset/logo-dataset\"\n",
    "\n",
    "# Percorre todas as pastas de ligas\n",
    "for league in os.listdir(root_folder):\n",
    "    league_path = os.path.join(root_folder, league)\n",
    "    \n",
    "    if not os.path.isdir(league_path):\n",
    "        continue  # ignora arquivos\n",
    "\n",
    "    # Verifica se já existem subpastas (pastas de clubes)\n",
    "    subdirs = [d for d in os.listdir(league_path) if os.path.isdir(os.path.join(league_path, d))]\n",
    "    if subdirs:\n",
    "        print(f\"Liga '{league}' já tem subpastas, ignorada.\")\n",
    "        continue  # pula esta liga\n",
    "\n",
    "    print(f\"Processando liga: {league}\")\n",
    "    \n",
    "    for filename in os.listdir(league_path):\n",
    "        if filename.lower().endswith(\".png\"):\n",
    "            club_name = os.path.splitext(filename)[0]\n",
    "            club_folder = os.path.join(league_path, club_name)\n",
    "            \n",
    "            os.makedirs(club_folder, exist_ok=True)\n",
    "            \n",
    "            src_path = os.path.join(league_path, filename)\n",
    "            dst_path = os.path.join(club_folder, filename)\n",
    "            \n",
    "            shutil.move(src_path, dst_path)\n",
    "\n",
    "print(\"Organização concluída para todas as ligas não processadas.\")\n"
   ]
  }
 ],
 "metadata": {
  "kernelspec": {
   "display_name": "Python (venv)",
   "language": "python",
   "name": "venv"
  },
  "language_info": {
   "codemirror_mode": {
    "name": "ipython",
    "version": 3
   },
   "file_extension": ".py",
   "mimetype": "text/x-python",
   "name": "python",
   "nbconvert_exporter": "python",
   "pygments_lexer": "ipython3",
   "version": "3.9.6"
  }
 },
 "nbformat": 4,
 "nbformat_minor": 5
}
