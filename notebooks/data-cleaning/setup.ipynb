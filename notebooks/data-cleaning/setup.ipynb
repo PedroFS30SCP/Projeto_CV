{
 "cells": [
  {
   "cell_type": "code",
   "execution_count": 1,
   "id": "a4de2672",
   "metadata": {},
   "outputs": [
    {
     "name": "stdout",
     "output_type": "stream",
     "text": [
      "Collecting icrawler\n",
      "  Downloading icrawler-0.6.10-py3-none-any.whl.metadata (6.2 kB)\n",
      "Requirement already satisfied: pillow in /Users/pedrofs/ISCTE/Mestrado/ComputerVision/venv/lib/python3.9/site-packages (11.2.1)\n",
      "Requirement already satisfied: beautifulsoup4 in /Users/pedrofs/ISCTE/Mestrado/ComputerVision/venv/lib/python3.9/site-packages (from icrawler) (4.13.4)\n",
      "Collecting bs4 (from icrawler)\n",
      "  Downloading bs4-0.0.2-py2.py3-none-any.whl.metadata (411 bytes)\n",
      "Collecting lxml (from icrawler)\n",
      "  Downloading lxml-5.4.0-cp39-cp39-macosx_10_9_universal2.whl.metadata (3.5 kB)\n",
      "Requirement already satisfied: pyyaml in /Users/pedrofs/ISCTE/Mestrado/ComputerVision/venv/lib/python3.9/site-packages (from icrawler) (6.0.2)\n",
      "Requirement already satisfied: requests in /Users/pedrofs/ISCTE/Mestrado/ComputerVision/venv/lib/python3.9/site-packages (from icrawler) (2.32.3)\n",
      "Requirement already satisfied: six in /Users/pedrofs/ISCTE/Mestrado/ComputerVision/venv/lib/python3.9/site-packages (from icrawler) (1.17.0)\n",
      "Requirement already satisfied: soupsieve>1.2 in /Users/pedrofs/ISCTE/Mestrado/ComputerVision/venv/lib/python3.9/site-packages (from beautifulsoup4->icrawler) (2.7)\n",
      "Requirement already satisfied: typing-extensions>=4.0.0 in /Users/pedrofs/ISCTE/Mestrado/ComputerVision/venv/lib/python3.9/site-packages (from beautifulsoup4->icrawler) (4.14.0)\n",
      "Requirement already satisfied: charset-normalizer<4,>=2 in /Users/pedrofs/ISCTE/Mestrado/ComputerVision/venv/lib/python3.9/site-packages (from requests->icrawler) (3.4.2)\n",
      "Requirement already satisfied: idna<4,>=2.5 in /Users/pedrofs/ISCTE/Mestrado/ComputerVision/venv/lib/python3.9/site-packages (from requests->icrawler) (3.10)\n",
      "Requirement already satisfied: urllib3<3,>=1.21.1 in /Users/pedrofs/ISCTE/Mestrado/ComputerVision/venv/lib/python3.9/site-packages (from requests->icrawler) (1.26.20)\n",
      "Requirement already satisfied: certifi>=2017.4.17 in /Users/pedrofs/ISCTE/Mestrado/ComputerVision/venv/lib/python3.9/site-packages (from requests->icrawler) (2025.4.26)\n",
      "Downloading icrawler-0.6.10-py3-none-any.whl (36 kB)\n",
      "Downloading bs4-0.0.2-py2.py3-none-any.whl (1.2 kB)\n",
      "Downloading lxml-5.4.0-cp39-cp39-macosx_10_9_universal2.whl (8.1 MB)\n",
      "\u001b[2K   \u001b[90m━━━━━━━━━━━━━━━━━━━━━━━━━━━━━━━━━━━━━━━━\u001b[0m \u001b[32m8.1/8.1 MB\u001b[0m \u001b[31m3.6 MB/s\u001b[0m eta \u001b[36m0:00:00\u001b[0ma \u001b[36m0:00:01\u001b[0m\n",
      "\u001b[?25hInstalling collected packages: lxml, bs4, icrawler\n",
      "\u001b[2K   \u001b[90m━━━━━━━━━━━━━━━━━━━━━━━━━━━━━━━━━━━━━━━━\u001b[0m \u001b[32m3/3\u001b[0m [icrawler]\n",
      "\u001b[1A\u001b[2KSuccessfully installed bs4-0.0.2 icrawler-0.6.10 lxml-5.4.0\n"
     ]
    }
   ],
   "source": [
    "# 1. Instalar dependências\n",
    "!pip install icrawler pillow"
   ]
  },
  {
   "cell_type": "code",
   "execution_count": 10,
   "id": "6288bb3d",
   "metadata": {},
   "outputs": [],
   "source": [
    "# 2. Importar módulos necessários\n",
    "from icrawler.builtin import BingImageCrawler\n",
    "from PIL import Image\n",
    "import os"
   ]
  },
  {
   "cell_type": "code",
   "execution_count": 11,
   "id": "ffdeaed4",
   "metadata": {},
   "outputs": [],
   "source": [
    "# Diretório base onde guardar os logos\n",
    "input_dir = \"../dataset/logos_raw/portugal\"\n",
    "os.makedirs(input_dir, exist_ok=True)"
   ]
  },
  {
   "cell_type": "code",
   "execution_count": 12,
   "id": "b1803e1d",
   "metadata": {},
   "outputs": [],
   "source": [
    "# 3. Parâmetros\n",
    "clubes_portugueses = [\n",
    "    \"sporting-cp logo png\",\n",
    "    \"benfica logo png\",\n",
    "    \"fc-porto logo png\",\n",
    "    \"sc-braga logo png\",\n",
    "    \"vitoria-sc logo png\"\n",
    "]"
   ]
  },
  {
   "cell_type": "code",
   "execution_count": 13,
   "id": "9ce14a6e",
   "metadata": {},
   "outputs": [
    {
     "name": "stderr",
     "output_type": "stream",
     "text": [
      "2025-06-03 17:51:57,407 - INFO - icrawler.crawler - start crawling...\n",
      "2025-06-03 17:51:57,408 - INFO - icrawler.crawler - starting 1 feeder threads...\n",
      "2025-06-03 17:51:57,409 - INFO - feeder - thread feeder-001 exit\n",
      "2025-06-03 17:51:57,409 - INFO - icrawler.crawler - starting 1 parser threads...\n",
      "2025-06-03 17:51:57,411 - INFO - icrawler.crawler - starting 1 downloader threads...\n",
      "2025-06-03 17:51:57,797 - INFO - parser - parsing result page https://www.bing.com/images/async?q=sporting-cp logo png&first=0\n",
      "2025-06-03 17:51:57,933 - INFO - downloader - image #1\thttps://static.vecteezy.com/system/resources/previews/030/486/333/large_2x/sporting-cp-club-logo-symbol-portugal-league-football-abstract-design-illustration-with-green-background-free-vector.jpg\n",
      "2025-06-03 17:51:58,002 - INFO - downloader - image #2\thttps://static.vecteezy.com/system/resources/previews/030/738/410/large_2x/sporting-cp-club-logo-symbol-portugal-league-football-abstract-design-illustration-with-black-background-free-vector.jpg\n",
      "2025-06-03 17:51:58,609 - INFO - downloader - image #3\thttp://pt.iconic-puzzles.com/cdn/shop/products/SportingCPmockupfulsep.jpg\n",
      "2025-06-03 17:51:58,704 - INFO - downloader - image #4\thttps://static.vecteezy.com/system/resources/previews/030/486/330/original/sporting-cp-club-logo-symbol-white-portugal-league-football-abstract-design-illustration-with-black-background-free-vector.jpg\n",
      "2025-06-03 17:51:58,821 - INFO - downloader - image #5\thttps://i.pinimg.com/originals/69/e3/aa/69e3aa7fb86c6b4a19c12a24f4533802.jpg\n",
      "2025-06-03 17:51:59,005 - INFO - downloader - image #6\thttps://wallpapercave.com/wp/wp1986107.jpg\n",
      "2025-06-03 17:51:59,396 - INFO - downloader - image #7\thttps://www.designfootball.com/images/joomgallery/details/miscellaneous__26/sporting_cp_logo__20240602_1178701194.jpg\n",
      "2025-06-03 17:51:59,941 - INFO - parser - no more page urls for thread parser-001 to parse\n",
      "2025-06-03 17:51:59,943 - INFO - parser - thread parser-001 exit\n",
      "2025-06-03 17:52:04,404 - INFO - downloader - no more download task for thread downloader-001\n",
      "2025-06-03 17:52:04,405 - INFO - downloader - thread downloader-001 exit\n",
      "2025-06-03 17:52:04,450 - INFO - icrawler.crawler - Crawling task done!\n",
      "2025-06-03 17:52:04,452 - INFO - icrawler.crawler - start crawling...\n",
      "2025-06-03 17:52:04,452 - INFO - icrawler.crawler - starting 1 feeder threads...\n",
      "2025-06-03 17:52:04,452 - INFO - feeder - thread feeder-001 exit\n",
      "2025-06-03 17:52:04,453 - INFO - icrawler.crawler - starting 1 parser threads...\n",
      "2025-06-03 17:52:04,454 - INFO - icrawler.crawler - starting 1 downloader threads...\n",
      "2025-06-03 17:52:04,955 - INFO - parser - parsing result page https://www.bing.com/images/async?q=benfica logo png&first=0\n",
      "2025-06-03 17:52:05,171 - INFO - downloader - image #1\thttps://logos-world.net/wp-content/uploads/2020/11/Benfica-Logo-1999-present.jpg\n",
      "2025-06-03 17:52:05,328 - INFO - downloader - image #2\thttps://logosmarcas.net/wp-content/uploads/2020/11/Benfica-Logo-1973-1999.jpg\n",
      "2025-06-03 17:52:05,404 - INFO - downloader - image #3\thttps://logos-world.net/wp-content/uploads/2020/11/Benfica-Logo-1908-1930.jpg\n",
      "2025-06-03 17:52:05,488 - INFO - downloader - image #4\thttps://logosmarcas.net/wp-content/uploads/2020/11/Benfica-Logo-Historia.jpg\n",
      "2025-06-03 17:52:05,565 - INFO - downloader - image #5\thttps://logosmarcas.net/wp-content/uploads/2020/11/Benfica-Logo-1930-1961.jpg\n",
      "2025-06-03 17:52:05,677 - INFO - downloader - image #6\thttps://i.pinimg.com/originals/25/10/70/251070e0651465f314906cae547c24f9.jpg\n",
      "2025-06-03 17:52:05,795 - INFO - downloader - image #7\thttps://static.vecteezy.com/system/resources/previews/030/738/801/original/benfica-club-symbol-logo-black-portugal-league-football-abstract-design-illustration-free-vector.jpg\n",
      "2025-06-03 17:52:06,142 - INFO - downloader - image #8\thttps://logosmarcas.net/wp-content/uploads/2020/11/Benfica-Logo-1906-1908.jpg\n",
      "2025-06-03 17:52:07,334 - INFO - parser - no more page urls for thread parser-001 to parse\n",
      "2025-06-03 17:52:07,335 - INFO - parser - thread parser-001 exit\n",
      "2025-06-03 17:52:11,150 - INFO - downloader - no more download task for thread downloader-001\n",
      "2025-06-03 17:52:11,151 - INFO - downloader - thread downloader-001 exit\n",
      "2025-06-03 17:52:11,480 - INFO - icrawler.crawler - Crawling task done!\n",
      "2025-06-03 17:52:11,485 - INFO - icrawler.crawler - start crawling...\n",
      "2025-06-03 17:52:11,485 - INFO - icrawler.crawler - starting 1 feeder threads...\n",
      "2025-06-03 17:52:11,486 - INFO - feeder - thread feeder-001 exit\n",
      "2025-06-03 17:52:11,487 - INFO - icrawler.crawler - starting 1 parser threads...\n",
      "2025-06-03 17:52:11,488 - INFO - icrawler.crawler - starting 1 downloader threads...\n",
      "2025-06-03 17:52:11,876 - INFO - parser - parsing result page https://www.bing.com/images/async?q=fc-porto logo png&first=0\n",
      "2025-06-03 17:52:12,285 - INFO - downloader - image #1\thttp://2.bp.blogspot.com/-vWKwXJ68b1Q/UoWOhaa8j5I/AAAAAAAAAN0/PxAU_eruYJI/s1600/FC-Porto-logo.jpg\n",
      "2025-06-03 17:52:12,375 - INFO - downloader - image #2\thttps://wallpapercave.com/wp/wp1883225.jpg\n",
      "2025-06-03 17:52:12,567 - INFO - downloader - image #3\thttps://yt3.ggpht.com/-W_SiEiCY4jw/AAAAAAAAAAI/AAAAAAAAAAA/pttipoaqoeI/s900-c-k-no-mo-rj-c0xffffff/photo.jpg\n",
      "2025-06-03 17:52:12,684 - INFO - downloader - image #4\thttps://wallpapercave.com/wp/wp2022356.jpg\n",
      "2025-06-03 17:52:12,840 - INFO - downloader - image #5\thttps://i.pinimg.com/originals/62/41/58/624158cd67a2104399a5b5f974d5bf1b.jpg\n",
      "2025-06-03 17:52:12,870 - INFO - downloader - image #6\thttps://i.pinimg.com/originals/e1/79/9b/e1799b71e26a3a897f445addd27b7d90.jpg\n",
      "2025-06-03 17:52:13,911 - INFO - parser - no more page urls for thread parser-001 to parse\n",
      "2025-06-03 17:52:13,913 - INFO - parser - thread parser-001 exit\n",
      "2025-06-03 17:52:17,876 - INFO - downloader - no more download task for thread downloader-001\n",
      "2025-06-03 17:52:17,877 - INFO - downloader - thread downloader-001 exit\n",
      "2025-06-03 17:52:18,518 - INFO - icrawler.crawler - Crawling task done!\n",
      "2025-06-03 17:52:18,523 - INFO - icrawler.crawler - start crawling...\n",
      "2025-06-03 17:52:18,523 - INFO - icrawler.crawler - starting 1 feeder threads...\n",
      "2025-06-03 17:52:18,524 - INFO - feeder - thread feeder-001 exit\n",
      "2025-06-03 17:52:18,525 - INFO - icrawler.crawler - starting 1 parser threads...\n",
      "2025-06-03 17:52:18,526 - INFO - icrawler.crawler - starting 1 downloader threads...\n",
      "2025-06-03 17:52:19,199 - INFO - parser - parsing result page https://www.bing.com/images/async?q=sc-braga logo png&first=0\n",
      "2025-06-03 17:52:19,321 - INFO - downloader - image #1\thttps://thumbs.dreamstime.com/b/sc-braga-logo-collection-vector-logos-most-famous-football-teams-world-154063902.jpg\n",
      "2025-06-03 17:52:19,434 - INFO - downloader - image #2\thttps://static.vecteezy.com/system/resources/previews/030/738/411/large_2x/sporting-braga-club-logo-symbol-portugal-league-football-abstract-design-illustration-with-red-background-free-vector.jpg\n",
      "2025-06-03 17:52:19,506 - INFO - downloader - image #3\thttps://static.vecteezy.com/system/resources/previews/030/736/693/original/sporting-braga-club-logo-symbol-white-portugal-league-football-abstract-design-illustration-with-black-background-free-vector.jpg\n",
      "2025-06-03 17:52:19,595 - INFO - downloader - image #4\thttps://static.vecteezy.com/system/resources/thumbnails/023/722/134/original/sc-braga-portugal-white-vertical-logo-flag-loop-background-hd-free-video.jpg\n",
      "2025-06-03 17:52:19,691 - INFO - downloader - image #5\thttps://static.vecteezy.com/system/resources/thumbnails/023/722/110/original/sc-braga-portugal-red-vertical-logo-flag-loop-background-hd-free-video.jpg\n",
      "2025-06-03 17:52:19,841 - INFO - downloader - image #6\thttps://static.vecteezy.com/system/resources/thumbnails/041/946/262/original/sc-braga-portugal-white-logo-flag-loop-background-4k-free-video.jpg\n",
      "2025-06-03 17:52:20,343 - INFO - downloader - image #7\thttps://i.pinimg.com/736x/17/58/bc/1758bc31f4de435c8fdadc9bff746fc9.jpg\n",
      "2025-06-03 17:52:20,548 - INFO - downloader - image #8\thttp://lofrev.net/wp-content/photos/2014/08/SC-Braga-Logo-3D-e1407139174595.jpg\n",
      "2025-06-03 17:52:20,594 - INFO - downloader - image #9\thttp://lofrev.net/wp-content/photos/2014/08/SC-Braga-Logo-Symbol-e1407139295762.jpg\n",
      "2025-06-03 17:52:21,509 - INFO - parser - no more page urls for thread parser-001 to parse\n",
      "2025-06-03 17:52:21,511 - INFO - parser - thread parser-001 exit\n",
      "2025-06-03 17:52:25,602 - INFO - downloader - no more download task for thread downloader-001\n",
      "2025-06-03 17:52:25,603 - INFO - downloader - thread downloader-001 exit\n",
      "2025-06-03 17:52:26,558 - INFO - icrawler.crawler - Crawling task done!\n",
      "2025-06-03 17:52:26,564 - INFO - icrawler.crawler - start crawling...\n",
      "2025-06-03 17:52:26,565 - INFO - icrawler.crawler - starting 1 feeder threads...\n",
      "2025-06-03 17:52:26,566 - INFO - feeder - thread feeder-001 exit\n",
      "2025-06-03 17:52:26,567 - INFO - icrawler.crawler - starting 1 parser threads...\n",
      "2025-06-03 17:52:26,570 - INFO - icrawler.crawler - starting 1 downloader threads...\n",
      "2025-06-03 17:52:27,093 - INFO - parser - parsing result page https://www.bing.com/images/async?q=vitoria-sc logo png&first=0\n",
      "2025-06-03 17:52:27,940 - INFO - downloader - image #1\thttps://shinyhqwalls.com/Uploads/12-11-2022/13195/thumb2-vitoria-sc-3d-logo-4k-black-brickwall-primeira-liga-soccer.jpg\n",
      "2025-06-03 17:52:28,183 - INFO - downloader - image #2\thttps://i.pinimg.com/736x/3a/28/e2/3a28e2f76e4066f82a874085b83d8e4d.jpg\n",
      "2025-06-03 17:52:28,341 - INFO - downloader - image #3\thttps://wallpapercave.com/wp/wp3911784.jpg\n",
      "2025-06-03 17:52:28,677 - INFO - downloader - image #4\thttps://ominho.pt/wp-content/uploads/2017/01/Vitoria-SC.jpg\n",
      "2025-06-03 17:52:30,190 - INFO - parser - no more page urls for thread parser-001 to parse\n",
      "2025-06-03 17:52:30,192 - INFO - parser - thread parser-001 exit\n",
      "2025-06-03 17:52:30,421 - INFO - downloader - image #5\thttps://wallpapercave.com/wp/wp8583518.jpg\n",
      "2025-06-03 17:52:31,553 - INFO - downloader - image #6\thttps://wallpapercave.com/wp/wp3911753.jpg\n",
      "2025-06-03 17:52:31,782 - INFO - downloader - image #7\thttps://thumbs.dreamstime.com/z/collection-vector-logos-most-famous-football-teams-world-vitoria-guimaraes-logo-154063872.jpg\n",
      "2025-06-03 17:52:31,808 - INFO - downloader - image #8\thttps://i.pinimg.com/736x/7c/15/e5/7c15e5bab16254cc427beacb7cd166cd.jpg\n",
      "2025-06-03 17:52:36,815 - INFO - downloader - no more download task for thread downloader-001\n",
      "2025-06-03 17:52:36,817 - INFO - downloader - thread downloader-001 exit\n",
      "2025-06-03 17:52:37,614 - INFO - icrawler.crawler - Crawling task done!\n"
     ]
    },
    {
     "name": "stdout",
     "output_type": "stream",
     "text": [
      "✅ Scraping concluído! Logos guardados em ../dataset/logos_raw/portugal/\n"
     ]
    }
   ],
   "source": [
    "# Fazer scraping para a pasta correta\n",
    "for clube in clubes_portugueses:\n",
    "    nome_pasta = clube.split()[0].lower()\n",
    "    save_path = os.path.join(input_dir, nome_pasta)\n",
    "    os.makedirs(save_path, exist_ok=True)\n",
    "\n",
    "    crawler = BingImageCrawler(storage={\"root_dir\": save_path})\n",
    "    crawler.crawl(keyword=clube, max_num=10)\n",
    "\n",
    "print(\"✅ Scraping concluído! Logos guardados em ../dataset/logos_raw/portugal/\")"
   ]
  },
  {
   "cell_type": "code",
   "execution_count": 15,
   "id": "b2a5083b",
   "metadata": {},
   "outputs": [
    {
     "name": "stdout",
     "output_type": "stream",
     "text": [
      "✅ Imagens limpas e normalizadas em ../dataset/logos_clean/portugal/\n"
     ]
    }
   ],
   "source": [
    "from PIL import Image\n",
    "import os\n",
    "\n",
    "input_dir = \"../dataset/logos_raw/portugal\"\n",
    "output_dir = \"../dataset/logos_clean/portugal\"\n",
    "target_size = (400, 400)\n",
    "\n",
    "for root, _, files in os.walk(input_dir):\n",
    "    for fname in files:\n",
    "        if fname.lower().endswith(('.png', '.jpg', '.jpeg')):\n",
    "            img_path = os.path.join(root, fname)\n",
    "            try:\n",
    "                img = Image.open(img_path).convert(\"RGBA\")\n",
    "                img = img.resize(target_size, Image.Resampling.LANCZOS)\n",
    "\n",
    "                subfolder = os.path.relpath(root, input_dir)\n",
    "                out_path = os.path.join(output_dir, subfolder)\n",
    "                os.makedirs(out_path, exist_ok=True)\n",
    "\n",
    "                output_name = os.path.splitext(fname)[0] + \".png\"\n",
    "                img.save(os.path.join(out_path, output_name))\n",
    "\n",
    "            except Exception as e:\n",
    "                print(f\"⚠️ Erro ao processar {img_path}: {e}\")\n",
    "\n",
    "print(\"✅ Imagens limpas e normalizadas em ../dataset/logos_clean/portugal/\")"
   ]
  }
 ],
 "metadata": {
  "kernelspec": {
   "display_name": "Python (venv)",
   "language": "python",
   "name": "venv"
  },
  "language_info": {
   "codemirror_mode": {
    "name": "ipython",
    "version": 3
   },
   "file_extension": ".py",
   "mimetype": "text/x-python",
   "name": "python",
   "nbconvert_exporter": "python",
   "pygments_lexer": "ipython3",
   "version": "3.9.6"
  }
 },
 "nbformat": 4,
 "nbformat_minor": 5
}
